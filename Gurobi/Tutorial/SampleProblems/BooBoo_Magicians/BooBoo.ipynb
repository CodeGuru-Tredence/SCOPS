{
 "cells": [
  {
   "cell_type": "markdown",
   "metadata": {},
   "source": [
    "# BooBoo Problem\n",
    "\n",
    "## Background\n",
    "\n",
    "BooBoo Magicians is a children’s party service that organizes entertainment packages for birthday parties and other small celebrations. It does business by selling ready-made entertainment packages. Their current portfolio includes three such packages: (1) Standard, (2) Joyful and (3) Fabulous. \n",
    "\n",
    "Each package requires a certain number of labor hours for its magicians and a set number of balloons bags that are needed for the decorations and tricks. The required resources with associated costs and the prices of each package are shown in the table below: \n",
    "\n",
    "![](assets/20220527180422.png)  \n",
    "\n",
    "\n",
    "## Problem Statement\n",
    "For the month of January, BooBoo Magicians has 325 bags of balloons and 400 hours of labor available. Their demand is such that, whatever mix of packages they may decide to offer, are guaranteed to sell out completely. \n",
    "\n",
    "Solve this problem optimally so that Booboo Magicians' profit for January is maximized? \n",
    "\n",
    "\n",
    "## Solution\n",
    "\n",
    "### Sets & Indexes\n",
    "$i \\in I$: Index and set of pakcages\n",
    "\n",
    "\n",
    "### Parameters\n",
    "$l_{i} \\in \\mathbb{R}^+$: Labor hours required for package $i \\in I$.\n",
    "\n",
    "$b_{i} \\in \\mathbb{R}^+$: Ballons required for package $i \\in I$.\n",
    "\n",
    "$c_{i} \\in \\mathbb{R}^+$: Cost for package $i \\in I$.\n",
    "\n",
    "$p_{i} \\in \\mathbb{R}^+$: Price for package $i \\in I$.\n",
    "\n",
    "### Decision Variables\n",
    "$pkgQuantity_{i} \\in \\mathbb{I}^+$: Takes integer values stating the #no packages for each package $i \\in I$.\n",
    "\n",
    "\n",
    "\n",
    "### Objective Function\n",
    "\n",
    "- **Total Profit** : The total profit is profit for each package multiplied with assign.\n",
    "\n",
    "$ \\begin{equation}\n",
    "{Profit_{i}} = (Price_{i} - Cost_{i}) \\tag 0\n",
    "\\end{equation} $\n",
    "\n",
    "$ \\begin{equation}\n",
    "\\text{Min} \\quad Z\n",
    "=\\sum_{i \\in I} pkgQuantity_{i} * Profit_{i}\n",
    "\\tag 1\n",
    "\\end{equation} $\n",
    "\n",
    "\n",
    "\n",
    "### Constraints\n",
    "- ***Total Ballons*** <= 325\n",
    "$ \\begin{equation} \n",
    "\\sum_{i \\in I} pkgQuantity_{i} * b_{i} <= 325 \\tag 3\n",
    "\\end{equation} $\n",
    "\n",
    "- ***Total Labor Hours*** <= 400\n",
    "$ \\begin{equation} \n",
    "\\sum_{i \\in I} pkgQuantity_{i} * l_{i} <= 400 \\tag 4\n",
    "\\end{equation} $"
   ]
  },
  {
   "cell_type": "markdown",
   "metadata": {},
   "source": []
  },
  {
   "cell_type": "code",
   "execution_count": 2,
   "metadata": {},
   "outputs": [],
   "source": [
    "#Loading Libraries\n",
    "from itertools import product\n",
    "from math import sqrt\n",
    "\n",
    "import gurobipy as gp\n",
    "from gurobipy import GRB"
   ]
  },
  {
   "cell_type": "code",
   "execution_count": 51,
   "metadata": {},
   "outputs": [],
   "source": [
    "#Parameters\n",
    "laborHours =[3,5,8]\n",
    "ballons =[2,5,8]\n",
    "cost=[2000,3000,4000]\n",
    "price=[3000,5000,7000]\n",
    "totalPackages = len(laborHours)"
   ]
  },
  {
   "cell_type": "code",
   "execution_count": 52,
   "metadata": {},
   "outputs": [],
   "source": [
    "#Calculating Profit\n",
    "import numpy as np\n",
    "costA=np.array(cost)\n",
    "priceA=np.array(price)\n",
    "profitA=priceA-costA\n",
    "profit=profitA.tolist()\n"
   ]
  },
  {
   "cell_type": "code",
   "execution_count": 53,
   "metadata": {},
   "outputs": [],
   "source": [
    "#Decision Variables\n",
    "packageQuantity = list(range(totalPackages))"
   ]
  },
  {
   "cell_type": "code",
   "execution_count": 54,
   "metadata": {},
   "outputs": [
    {
     "name": "stdout",
     "output_type": "stream",
     "text": [
      "Gurobi Optimizer version 9.5.1 build v9.5.1rc2 (mac64[arm])\n",
      "Thread count: 10 physical cores, 10 logical processors, using up to 10 threads\n",
      "Optimize a model with 2 rows, 3 columns and 6 nonzeros\n",
      "Model fingerprint: 0x17d11284\n",
      "Variable types: 0 continuous, 3 integer (0 binary)\n",
      "Coefficient statistics:\n",
      "  Matrix range     [2e+00, 8e+00]\n",
      "  Objective range  [1e+03, 3e+03]\n",
      "  Bounds range     [0e+00, 0e+00]\n",
      "  RHS range        [3e+02, 4e+02]\n",
      "Found heuristic solution: objective 133000.00000\n",
      "Presolve time: 0.00s\n",
      "Presolved: 2 rows, 3 columns, 6 nonzeros\n",
      "Variable types: 0 continuous, 3 integer (0 binary)\n",
      "\n",
      "Root relaxation: objective 1.450000e+05, 2 iterations, 0.00 seconds (0.00 work units)\n",
      "\n",
      "    Nodes    |    Current Node    |     Objective Bounds      |     Work\n",
      " Expl Unexpl |  Obj  Depth IntInf | Incumbent    BestBd   Gap | It/Node Time\n",
      "\n",
      "*    0     0               0    145000.00000 145000.000  0.00%     -    0s\n",
      "\n",
      "Explored 1 nodes (2 simplex iterations) in 0.01 seconds (0.00 work units)\n",
      "Thread count was 10 (of 10 available processors)\n",
      "\n",
      "Solution count 2: 145000 133000 \n",
      "\n",
      "Optimal solution found (tolerance 1.00e-04)\n",
      "Best objective 1.450000000000e+05, best bound 1.450000000000e+05, gap 0.0000%\n"
     ]
    }
   ],
   "source": [
    "# MIP  model formulation\n",
    "\n",
    "m = gp.Model('BooBoo')\n",
    "\n",
    "pkgQuantity = m.addVars(packageQuantity, vtype=GRB.INTEGER, name='assign')\n",
    "\n",
    "m.addConstr((pkgQuantity.prod(ballons) <= 325), name='Ballons')\n",
    "m.addConstr((pkgQuantity.prod(laborHours) <= 400), name='LaborHours')\n",
    "\n",
    "m.setObjective((pkgQuantity.prod(profit)), GRB.MAXIMIZE)\n",
    "\n",
    "m.optimize()"
   ]
  },
  {
   "cell_type": "code",
   "execution_count": 55,
   "metadata": {},
   "outputs": [],
   "source": [
    "obj = m.getObjective()"
   ]
  },
  {
   "cell_type": "code",
   "execution_count": 61,
   "metadata": {},
   "outputs": [
    {
     "name": "stdout",
     "output_type": "stream",
     "text": [
      "They should do\n",
      "standard: 75.0\n",
      "Joyful: 35.0\n",
      "Fabulous: -0.0\n",
      "Total Profit: $ 145000.00\n"
     ]
    }
   ],
   "source": [
    "print(f\"\"\"They should do\n",
    "standard: {pkgQuantity[0].x}\n",
    "Joyful: {pkgQuantity[1].x}\n",
    "Fabulous: {pkgQuantity[2].x}\"\"\")\n",
    "\n",
    "print(f\"\"\"Total Profit: $ { format(obj.getValue(),\".2f\")}\"\"\")\n"
   ]
  }
 ],
 "metadata": {
  "interpreter": {
   "hash": "b0fa6594d8f4cbf19f97940f81e996739fb7646882a419484c72d19e05852a7e"
  },
  "kernelspec": {
   "display_name": "Python 3.9.10 64-bit",
   "language": "python",
   "name": "python3"
  },
  "language_info": {
   "codemirror_mode": {
    "name": "ipython",
    "version": 3
   },
   "file_extension": ".py",
   "mimetype": "text/x-python",
   "name": "python",
   "nbconvert_exporter": "python",
   "pygments_lexer": "ipython3",
   "version": "3.9.10"
  },
  "orig_nbformat": 4
 },
 "nbformat": 4,
 "nbformat_minor": 2
}
