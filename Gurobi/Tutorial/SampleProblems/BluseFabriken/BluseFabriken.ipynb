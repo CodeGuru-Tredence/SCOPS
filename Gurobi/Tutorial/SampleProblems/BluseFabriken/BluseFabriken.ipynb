{
 "cells": [
  {
   "cell_type": "markdown",
   "metadata": {},
   "source": [
    "# BluseFabriken Problem\n",
    "## Background\n",
    "You have been recently hired as the supply chain manager of \n",
    "BluseFabriken, a company that manufactures and sells blouses \n",
    "that have been engineered for performance. Founded in 1982, \n",
    "BluseFabriken leaped to the top in its market with its \n",
    "revolutionary BF Shirt that could be used in both hot and \n",
    "cold seasons. The BF Shirt has remained its most successful and \n",
    "profitable product to date and as a result, the company has significantly grown its inventory. \n",
    "\n",
    "This year, BluseFabriken would like to improve its distribution to other Nordic and Central European countries. To support this initiative, your department has been allotted a large budget to construct two world-class warehouses that would start by maintaining a high inventory of BF Shirts. An external consultant has provided you with possible warehouse locations to choose from. Your role is to determine which location(s) would best serve the demands of BluseFabriken's wholesalers while minimizing costs. \n",
    "\n",
    "There are five candidate locations that you are considering for opening your warehouses. Due to limitations in your transportation capability, you can only select two of the five candidate locations to open the warehouses. Each warehouse that you could open would have both a fixed cost associated with storing inventory in it, and a transportation cost associated with shipping products out of it. The fixed cost is based on infrastructure and operating expenses, while the transportation cost is based on how far away the wholesalers are from the warehouses. The fixed cost and the per-kilometer per-shipment transportation cost for all five candidate locations are given by the following table: \n",
    "\n",
    "![](assets/20220602192940.png)\n",
    "\n",
    "Every warehouse that you decide to open will have to make 40 shipments to each one of the wholesalers every year. The distance between each warehouse and wholesaler locations are as follows: \n",
    "\n",
    "![](assets/20220602193136.png)  \n",
    "\n",
    "\n",
    "## Problem Statement\n",
    "Considering both the fixed and the transportation costs, you want to select the two best candidate locations among the five options to open your two warehouses, so that your operating costs are minimized. \n",
    "\n",
    "## Solution ( Warehouse Selection Problem )\n",
    "\n",
    "### Sets & Indexes\n",
    "$i \\in I$: Index and set of Warehouse \n",
    "\n",
    "$j \\in J$: Index and set of Wholesaler\n",
    "\n",
    "### Parameters\n",
    "\n",
    "$f_{i} \\in \\mathbb{R}^+$: Fixed cost  for Warehouse $i \\in I$.\n",
    "\n",
    "$t_{i} \\in \\mathbb{R}^+$: Transportation per shipment in euro/km for Warehouse $i \\in I$.\n",
    "\n",
    "$d_{i,j} \\in \\mathbb{R}^+$: Distance between Warehouse $i \\in I$ and Wholesaler $j \\in J$\n",
    "\n",
    "$outBound_{i,j} \\in \\mathbb{R}^+$: Out bound volume to wholesaler from warehouse I to wholesaler J \n",
    "\n",
    "\n",
    "### Decision Variables\n",
    "$WareHouse_{i} \\in \\mathbb{0,1}$: Takes binary values to make a decision on whether to open the warehouse or not at location $i \\in I$.\n",
    "\n",
    "### Cost Function\n",
    "$\\begin{equation}\n",
    "\\text{Min} \\quad Cost\n",
    "=\\sum_{i \\in I, j \\in J} \n",
    "WareHouse_{i}*f_{i} + d_{i,j}*t_{i}  \\tag 0\n",
    "\\end{equation}$\n",
    "\n",
    "### Constraints\n",
    "\n",
    "- ***Outbound from each Warehouse to Wholesaler = 40***\n",
    "\n",
    "$\\begin{equation}\n",
    "outBound_{i,j} = 40 \\text{ (for all }  i \\in I ,j \\in J) \\tag 1\n",
    "\\end{equation}$\n",
    "\n",
    "- ***Total Warehouse =2***\n",
    "\n",
    "$\\begin{equation}\n",
    "\\sum_{i \\in I } WareHouse_{i} = 2 \\tag 2\n",
    "\\end{equation} $\n"
   ]
  },
  {
   "cell_type": "code",
   "execution_count": 100,
   "metadata": {},
   "outputs": [],
   "source": [
    "import gurobipy as gp\n",
    "from gurobipy import GRB"
   ]
  },
  {
   "cell_type": "code",
   "execution_count": 108,
   "metadata": {},
   "outputs": [],
   "source": [
    "#Parameters\n",
    "#i=[i+1 for i in range(5)]\n",
    "#j=[j+1 for j in range(3)]\n",
    "f=[10000,20000,15000,17000,13000]\n",
    "c=[9,7,8,7.5,8.5]\n",
    "d=[[85,120,90],[45,150,85],[75,120,95],[60,80,90],[110,65,95]]\n",
    "outBound=[[40]*3]*5\n",
    "#costWar = \n",
    "num_facilities = len (f)\n",
    "num_warehouse = 3"
   ]
  },
  {
   "cell_type": "code",
   "execution_count": 109,
   "metadata": {},
   "outputs": [],
   "source": [
    "transCost=[ sum([element * c[i]*40  for element in d[i]]) for i in range (5) ]"
   ]
  },
  {
   "cell_type": "code",
   "execution_count": 110,
   "metadata": {},
   "outputs": [
    {
     "name": "stdout",
     "output_type": "stream",
     "text": [
      "Gurobi Optimizer version 9.5.1 build v9.5.1rc2 (mac64[arm])\n",
      "Thread count: 10 physical cores, 10 logical processors, using up to 10 threads\n",
      "Optimize a model with 1 rows, 5 columns and 5 nonzeros\n",
      "Model fingerprint: 0x866b34c7\n",
      "Variable types: 0 continuous, 5 integer (5 binary)\n",
      "Coefficient statistics:\n",
      "  Matrix range     [1e+00, 1e+00]\n",
      "  Objective range  [9e+04, 1e+05]\n",
      "  Bounds range     [1e+00, 1e+00]\n",
      "  RHS range        [2e+00, 2e+00]\n",
      "Found heuristic solution: objective 214600.00000\n",
      "Presolve removed 1 rows and 5 columns\n",
      "Presolve time: 0.00s\n",
      "Presolve: All rows and columns removed\n",
      "\n",
      "Explored 0 nodes (0 simplex iterations) in 0.01 seconds (0.00 work units)\n",
      "Thread count was 1 (of 10 available processors)\n",
      "\n",
      "Solution count 2: 184400 214600 \n",
      "\n",
      "Optimal solution found (tolerance 1.00e-04)\n",
      "Best objective 1.844000000000e+05, best bound 1.844000000000e+05, gap 0.0000%\n"
     ]
    }
   ],
   "source": [
    "m=gp.Model('Facility Location')\n",
    "\n",
    "select = m.addVars(num_facilities, vtype=GRB.BINARY, name='Select')\n",
    "\n",
    "m.addConstr(gp.quicksum(select)==2, name='Total Facilities')\n",
    "\n",
    "m.setObjective(select.prod(transCost)+select.prod(f), GRB.MINIMIZE)\n",
    "\n",
    "m.optimize()\n"
   ]
  },
  {
   "cell_type": "code",
   "execution_count": 111,
   "metadata": {},
   "outputs": [],
   "source": [
    "ob=m.getObjective()"
   ]
  },
  {
   "cell_type": "code",
   "execution_count": 112,
   "metadata": {},
   "outputs": [
    {
     "data": {
      "text/plain": [
       "[0.0, 1.0, 0.0, 1.0, 0.0]"
      ]
     },
     "execution_count": 112,
     "metadata": {},
     "output_type": "execute_result"
    }
   ],
   "source": [
    "[select[i].x for i in range(5)]"
   ]
  },
  {
   "cell_type": "code",
   "execution_count": 113,
   "metadata": {},
   "outputs": [
    {
     "data": {
      "text/plain": [
       "184400.0"
      ]
     },
     "execution_count": 113,
     "metadata": {},
     "output_type": "execute_result"
    }
   ],
   "source": [
    "ob.getValue()"
   ]
  },
  {
   "cell_type": "code",
   "execution_count": 114,
   "metadata": {},
   "outputs": [
    {
     "data": {
      "text/plain": [
       "[106200, 78400, 92800, 69000.0, 91800.0]"
      ]
     },
     "execution_count": 114,
     "metadata": {},
     "output_type": "execute_result"
    }
   ],
   "source": [
    "transCost"
   ]
  },
  {
   "cell_type": "code",
   "execution_count": 115,
   "metadata": {},
   "outputs": [
    {
     "name": "stdout",
     "output_type": "stream",
     "text": [
      "Part1-What would be the transportation cost of making one shipment from warehouse 2 to wholesaler 3: 595 \n",
      "Part2-What would be the annual transportation cost associated with making these 120 shipments from warehouse 1?: 106200 \n",
      "Part2-What would be the annual fixed cost associated with opening warehouse 1: 10000 \n",
      "Part2-What would be the total annual cost associated with opening warehouse, including both the transportation and the fixed costs above?: 116200 \n",
      "Part5- The 2 ware house that we will open are WareHouse-1 and WareHouse-2\n"
     ]
    }
   ],
   "source": [
    "print(f\"Part1-What would be the transportation cost of making one shipment from warehouse 2 to wholesaler 3: {c[1]*d[1][2]} \")\n",
    "print(f\"Part2-What would be the annual transportation cost associated with making these 120 shipments from warehouse 1?: {transCost[0]} \")\n",
    "print(f\"Part2-What would be the annual fixed cost associated with opening warehouse 1: {f[0]} \")\n",
    "print(f\"Part2-What would be the total annual cost associated with opening warehouse, including both the transportation and the fixed costs above?: {f[0]+transCost[0]} \")\n",
    "print(f\"Part5- The 2 ware house that we will open are WareHouse-1 and WareHouse-2\")\n"
   ]
  }
 ],
 "metadata": {
  "interpreter": {
   "hash": "8e3f50250669e7f24d09cd815d3780572c81fbfe6da9f13fdf720401f081cf9d"
  },
  "kernelspec": {
   "display_name": "Python 3.9.10 ('env': venv)",
   "language": "python",
   "name": "python3"
  },
  "language_info": {
   "codemirror_mode": {
    "name": "ipython",
    "version": 3
   },
   "file_extension": ".py",
   "mimetype": "text/x-python",
   "name": "python",
   "nbconvert_exporter": "python",
   "pygments_lexer": "ipython3",
   "version": "3.9.10"
  },
  "orig_nbformat": 4
 },
 "nbformat": 4,
 "nbformat_minor": 2
}
